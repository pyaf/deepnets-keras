{
 "cells": [
  {
   "cell_type": "markdown",
   "metadata": {},
   "source": [
    "# VGG19"
   ]
  },
  {
   "cell_type": "code",
   "execution_count": 18,
   "metadata": {},
   "outputs": [],
   "source": [
    "from keras.layers import Input, Dense,Flatten, Conv2D, MaxPooling2D\n",
    "from keras.models import Model\n",
    "from keras.utils import plot_model"
   ]
  },
  {
   "cell_type": "markdown",
   "metadata": {},
   "source": [
    "## VGG19 architecture \n",
    "\n",
    "<br>\n",
    "![](images/vgg19.png)"
   ]
  },
  {
   "cell_type": "code",
   "execution_count": 19,
   "metadata": {
    "collapsed": true
   },
   "outputs": [],
   "source": [
    "def VGG19(input_shape):\n",
    "    \n",
    "    \"\"\"\n",
    "    Implementation of the popular ResNet50 the following architecture:\n",
    "    CONV2D -> CONV2D -> MAXPOOL -> CONV2D -> CONV2D -> MAXPOOL -> CONV2D -> CONV2D -> CONV2D -> CONV2D -> MAXPOOL->\n",
    "    CONV2D -> CONV2D -> CONV2D -> CONV2D -> MAXPOOL -> CONV2D -> CONV2D -> CONV2D -> CONV2D -> MAXPOOL ->\n",
    "    CONV2D -> CONV2D -> CONV2D -> CONV2D -> MAXPOOL -> Flatten -> Dense -> Dense -> TopLayer\n",
    "    \n",
    "\n",
    "    Arguments:\n",
    "    input_shape -- shape of the images of the dataset\n",
    "    \n",
    "    Returns:\n",
    "    model -- a Model() instance in Keras\n",
    "    \"\"\"\n",
    "    \n",
    "    X_input = Input(input_shape)\n",
    "    #Block 1\n",
    "    X = Conv2D(64, (3, 3), activation='relu', padding='same', name='block1_conv1')(X_input)\n",
    "    X = Conv2D(64, (3, 3), activation='relu', padding='same', name='block1_conv2')(X)\n",
    "    X = MaxPooling2D((2, 2), strides=(2, 2), name='block1_pool')(X)\n",
    "    #Block 2\n",
    "    X = Conv2D(128, (3, 3), activation='relu', padding='same', name='block2_conv1')(X)\n",
    "    X = Conv2D(128, (3, 3), activation='relu', padding='same', name='block2_conv2')(X)\n",
    "    X = MaxPooling2D((2, 2), strides=(2, 2), name='block2_pool')(X)\n",
    "    #Block 3\n",
    "    X = Conv2D(256, (3, 3), activation='relu', padding='same', name='block3_conv1')(X)\n",
    "    X = Conv2D(256, (3, 3), activation='relu', padding='same', name='block3_conv2')(X)\n",
    "    X = Conv2D(256, (3, 3), activation='relu', padding='same', name='block3_conv3')(X)\n",
    "    X = Conv2D(256, (3, 3), activation='relu', padding='same', name='block3_conv4')(X)\n",
    "    X = MaxPooling2D((2, 2), strides=(2, 2), name='block3_pool')(X)\n",
    "    #Block 4\n",
    "    X = Conv2D(512, (3, 3), activation='relu', padding='same', name='block4_conv1')(X)\n",
    "    X = Conv2D(512, (3, 3), activation='relu', padding='same', name='block4_conv2')(X)\n",
    "    X = Conv2D(512, (3, 3), activation='relu', padding='same', name='block4_conv3')(X)\n",
    "    X = Conv2D(512, (3, 3), activation='relu', padding='same', name='block4_conv4')(X)    \n",
    "    X = MaxPooling2D((2, 2), strides=(2, 2), name='block4_pool')(X)\n",
    "    #Block 5\n",
    "    X = Conv2D(512, (3, 3), activation='relu', padding='same', name='block5_conv1')(X)\n",
    "    X = Conv2D(512, (3, 3), activation='relu', padding='same', name='block5_conv2')(X)\n",
    "    X = Conv2D(512, (3, 3), activation='relu', padding='same', name='block5_conv3')(X)\n",
    "    X = Conv2D(512, (3, 3), activation='relu', padding='same', name='block5_conv4')(X)    \n",
    "    X = MaxPooling2D((2, 2), strides=(2, 2), name='block5_pool')(X)\n",
    "    \n",
    "    \n",
    "    X = Flatten(name='flatten')(X)\n",
    "    X = Dense(4096, activation='relu', name='fc1')(X)\n",
    "    X = Dense(4096, activation='relu', name='fc2')(X)    \n",
    "    \n",
    "    model = Model(inputs=X_input, outputs=X)\n",
    "    \n",
    "    return model"
   ]
  },
  {
   "cell_type": "code",
   "execution_count": 20,
   "metadata": {
    "collapsed": true
   },
   "outputs": [],
   "source": [
    "input_shape = (124, 124, 3)"
   ]
  },
  {
   "cell_type": "code",
   "execution_count": 21,
   "metadata": {
    "collapsed": true
   },
   "outputs": [],
   "source": [
    "vgg19_model = VGG19(input_shape)"
   ]
  },
  {
   "cell_type": "code",
   "execution_count": 22,
   "metadata": {},
   "outputs": [
    {
     "name": "stdout",
     "output_type": "stream",
     "text": [
      "_________________________________________________________________\n",
      "Layer (type)                 Output Shape              Param #   \n",
      "=================================================================\n",
      "input_3 (InputLayer)         (None, 124, 124, 3)       0         \n",
      "_________________________________________________________________\n",
      "block1_conv1 (Conv2D)        (None, 124, 124, 64)      1792      \n",
      "_________________________________________________________________\n",
      "block1_conv2 (Conv2D)        (None, 124, 124, 64)      36928     \n",
      "_________________________________________________________________\n",
      "block1_pool (MaxPooling2D)   (None, 62, 62, 64)        0         \n",
      "_________________________________________________________________\n",
      "block2_conv1 (Conv2D)        (None, 62, 62, 128)       73856     \n",
      "_________________________________________________________________\n",
      "block2_conv2 (Conv2D)        (None, 62, 62, 128)       147584    \n",
      "_________________________________________________________________\n",
      "block2_pool (MaxPooling2D)   (None, 31, 31, 128)       0         \n",
      "_________________________________________________________________\n",
      "block3_conv1 (Conv2D)        (None, 31, 31, 256)       295168    \n",
      "_________________________________________________________________\n",
      "block3_conv2 (Conv2D)        (None, 31, 31, 256)       590080    \n",
      "_________________________________________________________________\n",
      "block3_conv3 (Conv2D)        (None, 31, 31, 256)       590080    \n",
      "_________________________________________________________________\n",
      "block3_conv4 (Conv2D)        (None, 31, 31, 256)       590080    \n",
      "_________________________________________________________________\n",
      "block3_pool (MaxPooling2D)   (None, 15, 15, 256)       0         \n",
      "_________________________________________________________________\n",
      "block4_conv1 (Conv2D)        (None, 15, 15, 512)       1180160   \n",
      "_________________________________________________________________\n",
      "block4_conv2 (Conv2D)        (None, 15, 15, 512)       2359808   \n",
      "_________________________________________________________________\n",
      "block4_conv3 (Conv2D)        (None, 15, 15, 512)       2359808   \n",
      "_________________________________________________________________\n",
      "block4_conv4 (Conv2D)        (None, 15, 15, 512)       2359808   \n",
      "_________________________________________________________________\n",
      "block4_pool (MaxPooling2D)   (None, 7, 7, 512)         0         \n",
      "_________________________________________________________________\n",
      "block5_conv1 (Conv2D)        (None, 7, 7, 512)         2359808   \n",
      "_________________________________________________________________\n",
      "block5_conv2 (Conv2D)        (None, 7, 7, 512)         2359808   \n",
      "_________________________________________________________________\n",
      "block5_conv3 (Conv2D)        (None, 7, 7, 512)         2359808   \n",
      "_________________________________________________________________\n",
      "block5_conv4 (Conv2D)        (None, 7, 7, 512)         2359808   \n",
      "_________________________________________________________________\n",
      "block5_pool (MaxPooling2D)   (None, 3, 3, 512)         0         \n",
      "_________________________________________________________________\n",
      "flatten (Flatten)            (None, 4608)              0         \n",
      "_________________________________________________________________\n",
      "fc1 (Dense)                  (None, 4096)              18878464  \n",
      "_________________________________________________________________\n",
      "fc2 (Dense)                  (None, 4096)              16781312  \n",
      "=================================================================\n",
      "Total params: 55,684,160\n",
      "Trainable params: 55,684,160\n",
      "Non-trainable params: 0\n",
      "_________________________________________________________________\n"
     ]
    }
   ],
   "source": [
    "vgg19_model.summary()"
   ]
  },
  {
   "cell_type": "code",
   "execution_count": 23,
   "metadata": {
    "collapsed": true
   },
   "outputs": [],
   "source": [
    "plot_model(vgg19_model, to_file='images/vgg19_model.png', show_shapes=True, show_layer_names=True)"
   ]
  },
  {
   "cell_type": "markdown",
   "metadata": {},
   "source": [
    "![](images/vgg19_model.png)"
   ]
  }
 ],
 "metadata": {
  "kernelspec": {
   "display_name": "Python [conda env:ML2]",
   "language": "python",
   "name": "conda-env-ML2-py"
  },
  "language_info": {
   "codemirror_mode": {
    "name": "ipython",
    "version": 3
   },
   "file_extension": ".py",
   "mimetype": "text/x-python",
   "name": "python",
   "nbconvert_exporter": "python",
   "pygments_lexer": "ipython3",
   "version": "3.6.3"
  }
 },
 "nbformat": 4,
 "nbformat_minor": 2
}
