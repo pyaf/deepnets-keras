{
 "cells": [
  {
   "cell_type": "markdown",
   "metadata": {},
   "source": [
    "# VGG19"
   ]
  },
  {
   "cell_type": "code",
   "execution_count": 2,
   "metadata": {
    "collapsed": true
   },
   "outputs": [],
   "source": [
    "from keras.layers import Input, Dense,Flatten, Conv2D, MaxPooling2D\n",
    "from keras.models import Model"
   ]
  },
  {
   "cell_type": "code",
   "execution_count": 3,
   "metadata": {
    "collapsed": true
   },
   "outputs": [],
   "source": [
    "def VGG19(input_shape, num_of_classes):\n",
    "    X_input = Input(input_shape)\n",
    "    #Block 1\n",
    "    X = Conv2D(64, (3, 3), activation='relu', padding='same', name='block1_conv1')(X_input)\n",
    "    X = Conv2D(64, (3, 3), activation='relu', padding='same', name='block1_conv2')(X)\n",
    "    X = MaxPooling2D((2, 2), strides=(2, 2), name='block1_pool')(X)\n",
    "    #Block 2\n",
    "    X = Conv2D(128, (3, 3), activation='relu', padding='same', name='block2_conv1')(X)\n",
    "    X = Conv2D(128, (3, 3), activation='relu', padding='same', name='block2_conv2')(X)\n",
    "    X = MaxPooling2D((2, 2), strides=(2, 2), name='block2_pool')(X)\n",
    "    #Block 3\n",
    "    X = Conv2D(256, (3, 3), activation='relu', padding='same', name='block3_conv1')(X)\n",
    "    X = Conv2D(256, (3, 3), activation='relu', padding='same', name='block3_conv2')(X)\n",
    "    X = Conv2D(256, (3, 3), activation='relu', padding='same', name='block3_conv3')(X)\n",
    "    X = Conv2D(256, (3, 3), activation='relu', padding='same', name='block3_conv4')(X)\n",
    "    X = MaxPooling2D((2, 2), strides=(2, 2), name='block3_pool')(X)\n",
    "    #Block 4\n",
    "    X = Conv2D(512, (3, 3), activation='relu', padding='same', name='block4_conv1')(X)\n",
    "    X = Conv2D(512, (3, 3), activation='relu', padding='same', name='block4_conv2')(X)\n",
    "    X = Conv2D(512, (3, 3), activation='relu', padding='same', name='block4_conv3')(X)\n",
    "    X = Conv2D(512, (3, 3), activation='relu', padding='same', name='block4_conv4')(X)    \n",
    "    X = MaxPooling2D((2, 2), strides=(2, 2), name='block4_pool')(X)\n",
    "    #Block 5\n",
    "    X = Conv2D(512, (3, 3), activation='relu', padding='same', name='block5_conv1')(X)\n",
    "    X = Conv2D(512, (3, 3), activation='relu', padding='same', name='block5_conv2')(X)\n",
    "    X = Conv2D(512, (3, 3), activation='relu', padding='same', name='block5_conv3')(X)\n",
    "    X = Conv2D(512, (3, 3), activation='relu', padding='same', name='block5_conv4')(X)    \n",
    "    X = MaxPooling2D((2, 2), strides=(2, 2), name='block5_pool')(X)\n",
    "    \n",
    "    \n",
    "    X = Flatten(name='flatten')(X)\n",
    "    X = Dense(4096, activation='relu', name='fc1')(X)\n",
    "    X = Dense(4096, activation='relu', name='fc2')(X)\n",
    "    X = Dense(num_of_classes, activation='softmax', name='predictions')(X)\n",
    "    \n",
    "    model = Model(inputs=X_input, outputs=X)\n",
    "    \n",
    "    return model"
   ]
  }
 ],
 "metadata": {
  "kernelspec": {
   "display_name": "Python [conda env:ML]",
   "language": "python",
   "name": "conda-env-ML-py"
  },
  "language_info": {
   "codemirror_mode": {
    "name": "ipython",
    "version": 3
   },
   "file_extension": ".py",
   "mimetype": "text/x-python",
   "name": "python",
   "nbconvert_exporter": "python",
   "pygments_lexer": "ipython3",
   "version": "3.5.4"
  }
 },
 "nbformat": 4,
 "nbformat_minor": 2
}
