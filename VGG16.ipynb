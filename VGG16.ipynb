{
 "cells": [
  {
   "cell_type": "markdown",
   "metadata": {},
   "source": [
    "# VGG16"
   ]
  },
  {
   "cell_type": "code",
   "execution_count": 10,
   "metadata": {},
   "outputs": [],
   "source": [
    "from keras.layers import Input, Dense,Flatten, Conv2D, MaxPooling2D\n",
    "from keras.models import Model\n",
    "from keras.utils import plot_model"
   ]
  },
  {
   "cell_type": "markdown",
   "metadata": {},
   "source": [
    "## VGG16 architecture \n",
    "\n",
    "<br>\n",
    "![](images/vgg16.png)"
   ]
  },
  {
   "cell_type": "code",
   "execution_count": 2,
   "metadata": {
    "collapsed": true
   },
   "outputs": [],
   "source": [
    "def VGG16(input_shape, num_of_classes):\n",
    "    X_input = Input(input_shape)\n",
    "    #Block 1\n",
    "    X = Conv2D(64, (3, 3), activation='relu', padding='same', name='block1_conv1')(X_input)\n",
    "    X = Conv2D(64, (3, 3), activation='relu', padding='same', name='block1_conv2')(X)\n",
    "    X = MaxPooling2D((2, 2), strides=(2, 2), name='block1_pool')(X)\n",
    "    #Block 2\n",
    "    X = Conv2D(128, (3, 3), activation='relu', padding='same', name='block2_conv1')(X)\n",
    "    X = Conv2D(128, (3, 3), activation='relu', padding='same', name='block2_conv2')(X)\n",
    "    X = MaxPooling2D((2, 2), strides=(2, 2), name='block2_pool')(X)\n",
    "    #Block 3\n",
    "    X = Conv2D(256, (3, 3), activation='relu', padding='same', name='block3_conv1')(X)\n",
    "    X = Conv2D(256, (3, 3), activation='relu', padding='same', name='block3_conv2')(X)\n",
    "    X = Conv2D(256, (3, 3), activation='relu', padding='same', name='block3_conv3')(X)\n",
    "    X = MaxPooling2D((2, 2), strides=(2, 2), name='block3_pool')(X)\n",
    "    #Block 4\n",
    "    X = Conv2D(512, (3, 3), activation='relu', padding='same', name='block4_conv1')(X)\n",
    "    X = Conv2D(512, (3, 3), activation='relu', padding='same', name='block4_conv2')(X)\n",
    "    X = Conv2D(512, (3, 3), activation='relu', padding='same', name='block4_conv3')(X)\n",
    "    X = MaxPooling2D((2, 2), strides=(2, 2), name='block4_pool')(X)\n",
    "    #Block 5\n",
    "    X = Conv2D(512, (3, 3), activation='relu', padding='same', name='block5_conv1')(X)\n",
    "    X = Conv2D(512, (3, 3), activation='relu', padding='same', name='block5_conv2')(X)\n",
    "    X = Conv2D(512, (3, 3), activation='relu', padding='same', name='block5_conv3')(X)\n",
    "    X = MaxPooling2D((2, 2), strides=(2, 2), name='block5_pool')(X)\n",
    "    \n",
    "    \n",
    "    X = Flatten(name='flatten')(X)\n",
    "    X = Dense(4096, activation='relu', name='fc1')(X)\n",
    "    X = Dense(4096, activation='relu', name='fc2')(X)\n",
    "    X = Dense(num_of_classes, activation='relu', name='fc3')(X)\n",
    "    \n",
    "    model = Model(inputs=X_input, outputs=X)\n",
    "    \n",
    "    return model"
   ]
  },
  {
   "cell_type": "code",
   "execution_count": 3,
   "metadata": {
    "collapsed": true
   },
   "outputs": [],
   "source": [
    "input_shape = (124, 124, 3)\n",
    "num_of_classes = 1000"
   ]
  },
  {
   "cell_type": "code",
   "execution_count": 7,
   "metadata": {},
   "outputs": [],
   "source": [
    "vgg16_model = VGG16(input_shape, num_of_classes)"
   ]
  },
  {
   "cell_type": "code",
   "execution_count": 8,
   "metadata": {},
   "outputs": [
    {
     "name": "stdout",
     "output_type": "stream",
     "text": [
      "_________________________________________________________________\n",
      "Layer (type)                 Output Shape              Param #   \n",
      "=================================================================\n",
      "input_2 (InputLayer)         (None, 124, 124, 3)       0         \n",
      "_________________________________________________________________\n",
      "block1_conv1 (Conv2D)        (None, 124, 124, 64)      1792      \n",
      "_________________________________________________________________\n",
      "block1_conv2 (Conv2D)        (None, 124, 124, 64)      36928     \n",
      "_________________________________________________________________\n",
      "block1_pool (MaxPooling2D)   (None, 62, 62, 64)        0         \n",
      "_________________________________________________________________\n",
      "block2_conv1 (Conv2D)        (None, 62, 62, 128)       73856     \n",
      "_________________________________________________________________\n",
      "block2_conv2 (Conv2D)        (None, 62, 62, 128)       147584    \n",
      "_________________________________________________________________\n",
      "block2_pool (MaxPooling2D)   (None, 31, 31, 128)       0         \n",
      "_________________________________________________________________\n",
      "block3_conv1 (Conv2D)        (None, 31, 31, 256)       295168    \n",
      "_________________________________________________________________\n",
      "block3_conv2 (Conv2D)        (None, 31, 31, 256)       590080    \n",
      "_________________________________________________________________\n",
      "block3_conv3 (Conv2D)        (None, 31, 31, 256)       590080    \n",
      "_________________________________________________________________\n",
      "block3_pool (MaxPooling2D)   (None, 15, 15, 256)       0         \n",
      "_________________________________________________________________\n",
      "block4_conv1 (Conv2D)        (None, 15, 15, 512)       1180160   \n",
      "_________________________________________________________________\n",
      "block4_conv2 (Conv2D)        (None, 15, 15, 512)       2359808   \n",
      "_________________________________________________________________\n",
      "block4_conv3 (Conv2D)        (None, 15, 15, 512)       2359808   \n",
      "_________________________________________________________________\n",
      "block4_pool (MaxPooling2D)   (None, 7, 7, 512)         0         \n",
      "_________________________________________________________________\n",
      "block5_conv1 (Conv2D)        (None, 7, 7, 512)         2359808   \n",
      "_________________________________________________________________\n",
      "block5_conv2 (Conv2D)        (None, 7, 7, 512)         2359808   \n",
      "_________________________________________________________________\n",
      "block5_conv3 (Conv2D)        (None, 7, 7, 512)         2359808   \n",
      "_________________________________________________________________\n",
      "block5_pool (MaxPooling2D)   (None, 3, 3, 512)         0         \n",
      "_________________________________________________________________\n",
      "flatten (Flatten)            (None, 4608)              0         \n",
      "_________________________________________________________________\n",
      "fc1 (Dense)                  (None, 4096)              18878464  \n",
      "_________________________________________________________________\n",
      "fc2 (Dense)                  (None, 4096)              16781312  \n",
      "_________________________________________________________________\n",
      "fc3 (Dense)                  (None, 1000)              4097000   \n",
      "=================================================================\n",
      "Total params: 54,471,464\n",
      "Trainable params: 54,471,464\n",
      "Non-trainable params: 0\n",
      "_________________________________________________________________\n"
     ]
    }
   ],
   "source": [
    "vgg16_model.summary()"
   ]
  },
  {
   "cell_type": "code",
   "execution_count": 11,
   "metadata": {},
   "outputs": [],
   "source": [
    "plot_model(vgg16_model, to_file='images/vgg16_model.png', show_shapes=True, show_layer_names=True)"
   ]
  },
  {
   "cell_type": "markdown",
   "metadata": {},
   "source": [
    "## Model plot\n",
    "![](images/vgg16_model.png)"
   ]
  }
 ],
 "metadata": {
  "kernelspec": {
   "display_name": "Python [conda env:ML2]",
   "language": "python",
   "name": "conda-env-ML2-py"
  },
  "language_info": {
   "codemirror_mode": {
    "name": "ipython",
    "version": 3
   },
   "file_extension": ".py",
   "mimetype": "text/x-python",
   "name": "python",
   "nbconvert_exporter": "python",
   "pygments_lexer": "ipython3",
   "version": "3.6.3"
  }
 },
 "nbformat": 4,
 "nbformat_minor": 2
}
